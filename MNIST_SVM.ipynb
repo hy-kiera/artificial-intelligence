{
 "cells": [
  {
   "cell_type": "code",
   "execution_count": 1,
   "metadata": {},
   "outputs": [],
   "source": [
    "import numpy as np\n",
    "import pandas as pd\n",
    "import matplotlib.pyplot as plt\n",
    "import seaborn as sns\n",
    "from sklearn.svm import SVC\n",
    "from sklearn.datasets import fetch_openml\n",
    "from sklearn.model_selection import train_test_split, GridSearchCV\n",
    "from sklearn.preprocessing import StandardScaler, RobustScaler, MinMaxScaler\n",
    "from sklearn.metrics import *\n",
    "# from scipy.ndimage import interpolation\n",
    "import time"
   ]
  },
  {
   "cell_type": "code",
   "execution_count": 2,
   "metadata": {},
   "outputs": [
    {
     "name": "stdout",
     "output_type": "stream",
     "text": [
      "CPU times: user 17.4 s, sys: 351 ms, total: 17.8 s\n",
      "Wall time: 17.8 s\n"
     ]
    }
   ],
   "source": [
    "%%time\n",
    "mnist = fetch_openml(\"mnist_784\")"
   ]
  },
  {
   "cell_type": "code",
   "execution_count": 3,
   "metadata": {},
   "outputs": [
    {
     "data": {
      "text/plain": [
       "(70000, 784)"
      ]
     },
     "execution_count": 3,
     "metadata": {},
     "output_type": "execute_result"
    }
   ],
   "source": [
    "mnist.data.shape"
   ]
  },
  {
   "cell_type": "code",
   "execution_count": 4,
   "metadata": {},
   "outputs": [
    {
     "data": {
      "text/plain": [
       "(70000,)"
      ]
     },
     "execution_count": 4,
     "metadata": {},
     "output_type": "execute_result"
    }
   ],
   "source": [
    "mnist.target.shape"
   ]
  },
  {
   "cell_type": "code",
   "execution_count": 5,
   "metadata": {},
   "outputs": [],
   "source": [
    "images = mnist.data\n",
    "targets = mnist.target\n",
    "labels = np.array([0, 1, 2, 3, 4, 5, 6, 7, 8, 9])\n",
    "target_name = ['0', '1', '2', '3', '4', '5', '6', '7', '8', '9']"
   ]
  },
  {
   "cell_type": "code",
   "execution_count": 6,
   "metadata": {},
   "outputs": [],
   "source": [
    "# def moments(image):\n",
    "#     c0,c1 = np.mgrid[:image.shape[0],:image.shape[1]] # A trick in numPy to create a mesh grid\n",
    "#     totalImage = np.sum(image) #sum of pixels\n",
    "#     m0 = np.sum(c0*image)/totalImage #mu_x\n",
    "#     m1 = np.sum(c1*image)/totalImage #mu_y\n",
    "#     m00 = np.sum((c0-m0)**2*image)/totalImage #var(x)\n",
    "#     m11 = np.sum((c1-m1)**2*image)/totalImage #var(y)\n",
    "#     m01 = np.sum((c0-m0)*(c1-m1)*image)/totalImage #covariance(x,y)\n",
    "#     mu_vector = np.array([m0,m1]) # Notice that these are \\mu_x, \\mu_y respectively\n",
    "#     covariance_matrix = np.array([[m00,m01],[m01,m11]]) # Do you see a similarity between the covariance matrix\n",
    "#     return mu_vector, covariance_matrix\n",
    "\n",
    "# def deskew(image):\n",
    "#     c,v = moments(image)\n",
    "#     alpha = v[0,1]/v[0,0]\n",
    "#     affine = np.array([[1,0],[alpha,1]])\n",
    "#     ocenter = np.array(image.shape)/2.0\n",
    "#     offset = c-np.dot(affine,ocenter)\n",
    "#     img = interpolation.affine_transform(image,affine,offset=offset)\n",
    "#     return (img - img.min()) / (img.max() - img.min())"
   ]
  },
  {
   "cell_type": "code",
   "execution_count": 7,
   "metadata": {},
   "outputs": [],
   "source": [
    "# deskewed=[deskew(img) for img in trT[1]]\n",
    "# deskewedTr=np.array(deskewed)\n",
    "# print(deskewedTr.shape)"
   ]
  },
  {
   "cell_type": "code",
   "execution_count": 8,
   "metadata": {},
   "outputs": [],
   "source": [
    "# stratify sampling\n",
    "def sampling(X, y, test_size=0.3, do_stratify=True):\n",
    "    if do_stratify:\n",
    "        X_train, X_test, y_train, y_test = train_test_split(X, y, test_size=test_size, random_state=123, stratify=y)\n",
    "    else:\n",
    "        X_train, X_test, y_train, y_test = train_test_split(X, y, test_size=test_size, random_state=123, stratify=None)\n",
    "    \n",
    "    # scaler\n",
    "    scaler = StandardScaler() # mean: 0, std: 1\n",
    "    # scaler = MinMaxScaler() # max: 1, min: 0\n",
    "    # scaler = RobustScaler() # median : 0, IQR : 1\n",
    "    scaler.fit(X_train)\n",
    "    \n",
    "    X_train = scaler.transform(X_train)\n",
    "    X_test = scaler.transform(X_test)\n",
    "    \n",
    "    return X_train, X_test, y_train, y_test"
   ]
  },
  {
   "cell_type": "code",
   "execution_count": 9,
   "metadata": {},
   "outputs": [],
   "source": [
    "def count_target(target):\n",
    "    for i in range(10):\n",
    "        unique, counts = np.unique(target, return_counts=True)\n",
    "        \n",
    "    return counts"
   ]
  },
  {
   "cell_type": "markdown",
   "metadata": {},
   "source": [
    "# SVM - linear kernel"
   ]
  },
  {
   "cell_type": "code",
   "execution_count": 10,
   "metadata": {},
   "outputs": [],
   "source": [
    "# C = [1000.0, 100.0, 10.0, 1.0, 0.1, 0.01, 0.001]"
   ]
  },
  {
   "cell_type": "code",
   "execution_count": 27,
   "metadata": {},
   "outputs": [],
   "source": [
    "def run_gridsearchcv(X_train, y_train, C):\n",
    "    \"\"\"\n",
    "    SVC : C-Support Vector Classification.\n",
    "    GridSearchCV : Exhaustive search over specified parameter values for an estimator\n",
    "                   estimator : SVM Classifier\n",
    "                   parameters : linear kernel, C\n",
    "                   scoring : f1\n",
    "                   cross-validation : 10 times\n",
    "    \"\"\"\n",
    "    \n",
    "    parameters = {'kernel':['linear'], 'C':C}\n",
    "    \n",
    "    svc = SVC()\n",
    "    clf = GridSearchCV(estimator=svc, param_grid=parameters, scoring='f1_micro', cv=10, n_jobs=-1)\n",
    "    print(clf, \"\\n\")\n",
    "    # training\n",
    "\n",
    "    start_time = time.time()\n",
    "    %time clf.fit(X_train, y_train)\n",
    "    end_time = time.time()\n",
    "#     scores_df = pd.DataFrame(clf.cv_results_)\n",
    "    best_param = clf.best_params_\n",
    "    best_score = clf.best_score_\n",
    "    \n",
    "    print(\"training time : \", end_time-start_time, \"\\n\")\n",
    "    print(\"cv results : \\n\", clf.cv_results_, \"\\n\")\n",
    "#     print(\"cv_validation_scores : \\n\", clf.cv_results_[\"cv_validation_scores\"]) # every result of cross-validation\n",
    "#     print(\"mean_test_score : \\n\", clf.cv_results_[\"mean_test_score\"]) # mean of result of cross-validation\n",
    "    print(\"scorer : \", clf.scorer_)\n",
    "    print(\"best\\n\", best_param, \" : \", best_score)\n",
    "#     scores_df[sorted(clf.cv_results_.keys())]\n",
    "    \n",
    "#     with open(\"./results/train.txt\", \"a\") as f:\n",
    "#         data = \"training time : \" + str(end_time-start_time) + \"\\n\"\n",
    "#         data += \"cv_validation_scores\\n\" + \"=\"*10 + \"n\" + str(clf.cv_results_[\"cv_validation_scores\"]) + \"\\n\"\n",
    "#         data += \"mean_test_score\\n\" + \"=\"*10 + \"n\" + str(clf.cv_results_[\"mean_test_score\"]) + \"\\n\"\n",
    "#         data += \"\\nbest_param : \" + str(best_param) + \"\\tbest_score : \" + str(best_score)\n",
    "#         f.write(data)\n",
    "\n",
    "    return best_param, clf.cv_results_"
   ]
  },
  {
   "cell_type": "code",
   "execution_count": 12,
   "metadata": {},
   "outputs": [],
   "source": [
    "def diff_run_time(X_train, y_train, C):\n",
    "    for c in C:\n",
    "        print(\"C is %f\" %c)\n",
    "\n",
    "        start_time = time.time()\n",
    "        %time clf = SVC(kernel=\"linear\", C=c).fix(X_train, y_train)\n",
    "        end_time = time.time()\n",
    "        print(\"running time : \", end_time - start_time)\n",
    "    \n",
    "#     with open(\"./results/diff_run_time.txt\", \"a\") as f:\n",
    "#         data = \"C is\" + str(C) + \"\\nrunning time : \" + str(end_time-start_time) + \"\\n\"\n",
    "#         f.write(data)"
   ]
  },
  {
   "cell_type": "code",
   "execution_count": 28,
   "metadata": {},
   "outputs": [],
   "source": [
    "def test(X_train, X_test, y_train, y_test, C, target_name):\n",
    "    clf = SVC(kernel=\"linear\", C=C).fit(X_train, y_train)\n",
    "    %time y_pred = clf.predict(X_test)\n",
    "    \n",
    "    cv_report = classification_report(y_test, y_pred, target_name=target_name)\n",
    "    print(\"cv_report\\n\", cv_report)\n",
    "    \n",
    "    res_SVM = []\n",
    "    res_SVM.append([accuracy_score(y_test, y_pred),\n",
    "              precision_score(y_test, y_pred, average=\"micro\"),\n",
    "              recall_score(y_test, y_pred, average=\"micro\"),\n",
    "              f1_score(y_test, y_pred, average=\"micro\")])\n",
    "    \n",
    "    # scores\n",
    "    res_pd = pd.DataFrame(res_SVM, columns = [\"Accuracy\", \"Precision\", \"Recall\", \"F1-score\"], index=[\"SVM\"])\n",
    "    print(res_pd)\n",
    "    \n",
    "    # confusion matrix\n",
    "    cmat = confusion_matrix(y_test, y_pred, target_name)\n",
    "    sns.set_palette(\"husl\")\n",
    "    plt.figure(figsize=(12,6))\n",
    "    sns.heatmap(cmat, annot=True)\n",
    "    \n",
    "    # TODO : ROC curve\n",
    "    \n",
    "#     with open(\"./results/test_cv_report.txt\", \"a\") as f:\n",
    "#         data = \"classification report : \\n\" + str(cv_report)\n",
    "#         data += str(res_SVM[i] for i in range(4))\n",
    "#         f.write(data)"
   ]
  },
  {
   "cell_type": "code",
   "execution_count": 14,
   "metadata": {},
   "outputs": [],
   "source": [
    "X_train, X_test, y_train, y_test = sampling(images, targets, 0.3, True)"
   ]
  },
  {
   "cell_type": "code",
   "execution_count": 15,
   "metadata": {},
   "outputs": [
    {
     "data": {
      "image/png": "[encoded data removed]",
      "text/plain": [
       "<Figure size 648x648 with 3 Axes>"
      ]
     },
     "metadata": {
      "needs_background": "light"
     },
     "output_type": "display_data"
    }
   ],
   "source": [
    "# distribution of numbers after stratify sampling\n",
    "count_y_train = count_target(y_train)\n",
    "count_y_test = count_target(y_test)\n",
    "count_y = count_target(targets)\n",
    "\n",
    "plt.figure(figsize=(9,9))\n",
    "\n",
    "plt.subplot(221)\n",
    "plt.bar(labels, count_y)\n",
    "plt.title(\"target\")\n",
    "plt.xticks(labels, labels)\n",
    "plt.yticks(count_y)\n",
    "plt.ylim(min(count_y)-100, max(count_y)+100)\n",
    "\n",
    "plt.subplot(223)\n",
    "plt.bar(labels, count_y_train)\n",
    "plt.title(\"y_train\")\n",
    "plt.xticks(labels, labels)\n",
    "plt.yticks(count_y_train)\n",
    "plt.ylim(min(count_y_train)-100, max(count_y_train)+100)\n",
    "\n",
    "plt.subplot(224)\n",
    "plt.bar(labels, count_y_test)\n",
    "plt.title(\"y_test\")\n",
    "plt.xticks(labels, labels)\n",
    "plt.yticks(count_y_test)\n",
    "plt.ylim(min(count_y_test)-100, max(count_y_test)+100)\n",
    "\n",
    "plt.show()"
   ]
  },
  {
   "cell_type": "code",
   "execution_count": 16,
   "metadata": {},
   "outputs": [
    {
     "name": "stdout",
     "output_type": "stream",
     "text": [
      "(49000, 784) (21000, 784)\n",
      "(49000,) (21000,)\n"
     ]
    }
   ],
   "source": [
    "print(X_train.shape, X_test.shape)\n",
    "print(y_train.shape, y_test.shape)"
   ]
  },
  {
   "cell_type": "code",
   "execution_count": 17,
   "metadata": {},
   "outputs": [],
   "source": [
    "# diff_run_time(X_train, y_train, C=[1000.0, 1.0, 0.001])"
   ]
  },
  {
   "cell_type": "code",
   "execution_count": 29,
   "metadata": {
    "scrolled": false
   },
   "outputs": [
    {
     "name": "stdout",
     "output_type": "stream",
     "text": [
      "GridSearchCV(cv=10, error_score='raise-deprecating',\n",
      "             estimator=SVC(C=1.0, cache_size=200, class_weight=None, coef0=0.0,\n",
      "                           decision_function_shape='ovr', degree=3,\n",
      "                           gamma='auto_deprecated', kernel='rbf', max_iter=-1,\n",
      "                           probability=False, random_state=None, shrinking=True,\n",
      "                           tol=0.001, verbose=False),\n",
      "             iid='warn', n_jobs=-1,\n",
      "             param_grid={'C': [10.0, 1.0, 0.1, 0.01, 0.001],\n",
      "                         'kernel': ['linear']},\n",
      "             pre_dispatch='2*n_jobs', refit=True, return_train_score=False,\n",
      "             scoring='f1_micro', verbose=0) \n",
      "\n",
      "CPU times: user 2min 42s, sys: 384 ms, total: 2min 42s\n",
      "Wall time: 50min 6s\n",
      "training time :  3006.00284576416 \n",
      "\n",
      "cv results : \n",
      " {'mean_fit_time': array([1409.70832818,  604.74459655,  565.83499832,  586.89758658,\n",
      "        706.79060931]), 'std_fit_time': array([163.24712355,  41.47027399,  53.62983841,  16.16435831,\n",
      "        42.85333121]), 'mean_score_time': array([71.02934418, 55.84011207, 84.25190649, 87.47669783, 70.18785498]), 'std_score_time': array([ 9.52647697,  4.61824969, 11.25989463, 10.91795249, 15.37211104]), 'param_C': masked_array(data=[10.0, 1.0, 0.1, 0.01, 0.001],\n",
      "             mask=[False, False, False, False, False],\n",
      "       fill_value='?',\n",
      "            dtype=object), 'param_kernel': masked_array(data=['linear', 'linear', 'linear', 'linear', 'linear'],\n",
      "             mask=[False, False, False, False, False],\n",
      "       fill_value='?',\n",
      "            dtype=object), 'params': [{'C': 10.0, 'kernel': 'linear'}, {'C': 1.0, 'kernel': 'linear'}, {'C': 0.1, 'kernel': 'linear'}, {'C': 0.01, 'kernel': 'linear'}, {'C': 0.001, 'kernel': 'linear'}], 'split0_test_score': array([0.91783894, 0.92130479, 0.93170234, 0.94311927, 0.94006116]), 'split1_test_score': array([0.91272431, 0.91904568, 0.93270799, 0.93984502, 0.93862153]), 'split2_test_score': array([0.91739751, 0.9184173 , 0.93085866, 0.94309606, 0.94024067]), 'split3_test_score': array([0.9112426 , 0.91593552, 0.93042236, 0.93756376, 0.93491124]), 'split4_test_score': array([0.91122449, 0.91428571, 0.92285714, 0.93571429, 0.9355102 ]), 'split5_test_score': array([0.91896305, 0.92161666, 0.93549704, 0.94754031, 0.94488671]), 'split6_test_score': array([0.91345172, 0.91794244, 0.93468055, 0.94162074, 0.94243723]), 'split7_test_score': array([0.91892996, 0.92280988, 0.93281601, 0.94363896, 0.94016745]), 'split8_test_score': array([0.91852154, 0.91995099, 0.93118236, 0.938738  , 0.93710435]), 'split9_test_score': array([0.91705822, 0.92093973, 0.93360572, 0.94463739, 0.93830439]), 'mean_test_score': array([0.91573469, 0.91922449, 0.93163265, 0.94155102, 0.93922449]), 'std_test_score': array([0.00303546, 0.00252795, 0.0033158 , 0.0033968 , 0.00288274]), 'rank_test_score': array([5, 4, 3, 1, 2], dtype=int32)} \n",
      "\n",
      "scorer :  make_scorer(f1_score, pos_label=None, average=micro)\n",
      "best\n",
      " {'C': 0.01, 'kernel': 'linear'}  :  0.9415510204081633\n",
      "CPU times: user 2min 42s, sys: 384 ms, total: 2min 42s\n",
      "Wall time: 50min 6s\n"
     ]
    }
   ],
   "source": [
    "%%time\n",
    "param, cv_results = run_gridsearchcv(X_train, y_train, C=[10.0, 1.0, 0.1, 0.01, 0.001])"
   ]
  },
  {
   "cell_type": "code",
   "execution_count": 30,
   "metadata": {},
   "outputs": [
    {
     "name": "stdout",
     "output_type": "stream",
     "text": [
      "GridSearchCV(cv=10, error_score='raise-deprecating',\n",
      "             estimator=SVC(C=1.0, cache_size=200, class_weight=None, coef0=0.0,\n",
      "                           decision_function_shape='ovr', degree=3,\n",
      "                           gamma='auto_deprecated', kernel='rbf', max_iter=-1,\n",
      "                           probability=False, random_state=None, shrinking=True,\n",
      "                           tol=0.001, verbose=False),\n",
      "             iid='warn', n_jobs=-1,\n",
      "             param_grid={'C': [100.0], 'kernel': ['linear']},\n",
      "             pre_dispatch='2*n_jobs', refit=True, return_train_score=False,\n",
      "             scoring='f1_micro', verbose=0) \n",
      "\n",
      "CPU times: user 1h 57min 38s, sys: 554 ms, total: 1h 57min 38s\n",
      "Wall time: 3h 35min 6s\n",
      "training time :  12906.865638494492 \n",
      "\n",
      "cv results : \n",
      " {'mean_fit_time': array([5169.55596304]), 'std_fit_time': array([451.9247594]), 'mean_score_time': array([25.8997998]), 'std_score_time': array([2.9108412]), 'param_C': masked_array(data=[100.0],\n",
      "             mask=[False],\n",
      "       fill_value='?',\n",
      "            dtype=object), 'param_kernel': masked_array(data=['linear'],\n",
      "             mask=[False],\n",
      "       fill_value='?',\n",
      "            dtype=object), 'params': [{'C': 100.0, 'kernel': 'linear'}], 'split0_test_score': array([0.91437309]), 'split1_test_score': array([0.91048124]), 'split2_test_score': array([0.91209464]), 'split3_test_score': array([0.9102224]), 'split4_test_score': array([0.90857143]), 'split5_test_score': array([0.91569708]), 'split6_test_score': array([0.91385997]), 'split7_test_score': array([0.91219114]), 'split8_test_score': array([0.91484582]), 'split9_test_score': array([0.91358529]), 'mean_test_score': array([0.91259184]), 'std_test_score': array([0.00217101]), 'rank_test_score': array([1], dtype=int32)} \n",
      "\n",
      "scorer :  make_scorer(f1_score, pos_label=None, average=micro)\n",
      "best\n",
      " {'C': 100.0, 'kernel': 'linear'}  :  0.9125918367346939\n",
      "CPU times: user 1h 57min 38s, sys: 554 ms, total: 1h 57min 38s\n",
      "Wall time: 3h 35min 6s\n"
     ]
    }
   ],
   "source": [
    "%%time\n",
    "param_100, cv_results_100 = run_gridsearchcv(X_train, y_train, C=[100.0])"
   ]
  },
  {
   "cell_type": "code",
   "execution_count": 19,
   "metadata": {},
   "outputs": [
    {
     "data": {
      "text/plain": [
       "{'C': 0.01, 'kernel': 'linear'}"
      ]
     },
     "execution_count": 19,
     "metadata": {},
     "output_type": "execute_result"
    }
   ],
   "source": [
    "param"
   ]
  },
  {
   "cell_type": "code",
   "execution_count": 20,
   "metadata": {},
   "outputs": [],
   "source": [
    "# DO NOT UNCOMMENT!!\n",
    "# test(X_train, X_test, y_train, y_test, param, target_name)"
   ]
  }
 ],
 "metadata": {
  "kernelspec": {
   "display_name": "Python 3",
   "language": "python",
   "name": "python3"
  },
  "language_info": {
   "codemirror_mode": {
    "name": "ipython",
    "version": 3
   },
   "file_extension": ".py",
   "mimetype": "text/x-python",
   "name": "python",
   "nbconvert_exporter": "python",
   "pygments_lexer": "ipython3",
   "version": "3.6.8"
  }
 },
 "nbformat": 4,
 "nbformat_minor": 2
}
